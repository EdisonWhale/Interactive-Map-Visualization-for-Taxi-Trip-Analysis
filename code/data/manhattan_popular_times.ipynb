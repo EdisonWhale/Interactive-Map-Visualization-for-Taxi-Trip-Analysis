{
 "cells": [
  {
   "cell_type": "markdown",
   "metadata": {},
   "source": [
    "This notebook is for verifying the geographic converage of popular times data. "
   ]
  },
  {
   "cell_type": "code",
   "execution_count": null,
   "metadata": {},
   "outputs": [],
   "source": [
    "import numpy as np\n",
    "import pandas as pd\n",
    "import folium\n",
    "import json\n",
    "\n",
    "from utils import coordinate_to_borough, borough_polygons"
   ]
  },
  {
   "cell_type": "code",
   "execution_count": null,
   "metadata": {},
   "outputs": [],
   "source": [
    "# Download merged popular times data\n",
    "!python data_cleaning.py --data popular_times"
   ]
  },
  {
   "cell_type": "code",
   "execution_count": null,
   "metadata": {},
   "outputs": [],
   "source": [
    "# Read Popular Times data\n",
    "f = open(\"./raw/merged_popular_times.json\")\n",
    "data = json.load(f)"
   ]
  },
  {
   "cell_type": "code",
   "execution_count": null,
   "metadata": {},
   "outputs": [],
   "source": [
    "# Get Manhattan polygon\n",
    "poly = borough_polygons[\"Manhattan\"]"
   ]
  },
  {
   "cell_type": "code",
   "execution_count": null,
   "metadata": {},
   "outputs": [],
   "source": [
    "# Added borough info to each entry\n",
    "for place in data:\n",
    "    long = place[\"coordinates\"][\"lng\"]\n",
    "    lat = place[\"coordinates\"][\"lat\"]\n",
    "    boro_name = coordinate_to_borough([long, lat])\n",
    "    place[\"borough\"] = boro_name"
   ]
  },
  {
   "cell_type": "code",
   "execution_count": null,
   "metadata": {},
   "outputs": [],
   "source": [
    "# Keep only places in Manhattan and their coordinates\n",
    "manhattan_places = [place for place in data if place[\"borough\"] == \"Manhattan\"]\n",
    "coordinates = np.array(\n",
    "    [\n",
    "        [place[\"coordinates\"][\"lng\"], place[\"coordinates\"][\"lat\"]]\n",
    "        for place in manhattan_places\n",
    "    ]\n",
    ")"
   ]
  },
  {
   "cell_type": "code",
   "execution_count": null,
   "metadata": {},
   "outputs": [],
   "source": [
    "# Visualize\n",
    "viz = folium.Map(location=[40.7128, -74.0060], tiles=\"Stamen Terrain\", zoom_start=11)\n",
    "\n",
    "folium.GeoJson(poly).add_to(viz)\n",
    "\n",
    "for lng, lat in coordinates:\n",
    "    folium.CircleMarker(\n",
    "        location=[lat, lng],\n",
    "        tooltip=\"[{}, {}]\".format(lat, lng),\n",
    "        radius=0.5,\n",
    "        color=\"red\",\n",
    "    ).add_to(viz)\n",
    "\n",
    "viz"
   ]
  },
  {
   "cell_type": "code",
   "execution_count": null,
   "metadata": {},
   "outputs": [],
   "source": []
  }
 ],
 "metadata": {
  "kernelspec": {
   "display_name": "Python 3.10.8 ('taxi-trip-visual-analytics')",
   "language": "python",
   "name": "python3"
  },
  "language_info": {
   "codemirror_mode": {
    "name": "ipython",
    "version": 3
   },
   "file_extension": ".py",
   "mimetype": "text/x-python",
   "name": "python",
   "nbconvert_exporter": "python",
   "pygments_lexer": "ipython3",
   "version": "3.10.8"
  },
  "orig_nbformat": 4,
  "vscode": {
   "interpreter": {
    "hash": "4ed90359adb6808aa0389ff13ce82deffca9cf662f82364b316eed0713d81396"
   }
  }
 },
 "nbformat": 4,
 "nbformat_minor": 2
}
